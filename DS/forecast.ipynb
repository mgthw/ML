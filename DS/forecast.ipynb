{
  "cells": [
    {
      "cell_type": "markdown",
      "metadata": {
        "id": "view-in-github",
        "colab_type": "text"
      },
      "source": [
        "<a href=\"https://colab.research.google.com/github/mgthw/mthudanghoc/blob/main/DS/forecast.ipynb\" target=\"_parent\"><img src=\"https://colab.research.google.com/assets/colab-badge.svg\" alt=\"Open In Colab\"/></a>"
      ]
    },
    {
      "cell_type": "markdown",
      "metadata": {
        "id": "xUJLkBCWxfNi"
      },
      "source": [
        "<b> Bảng phân công công việc: </b>\n",
        "\n",
        "| Họ Tên         | MSSV                  | % Hoàn Thành |\n",
        "|-------------|------------------------------|------------------|\n",
        "| Đặng Phương Thảo | 050610221313      | 100%           |\n",
        "| Trần Ngọc Minh Thư | 050610220602     | 100%           |\n",
        "| Lê Thị Yến Linh | 050610221030            | 100%           |"
      ]
    },
    {
      "cell_type": "code",
      "execution_count": null,
      "metadata": {
        "colab": {
          "base_uri": "https://localhost:8080/"
        },
        "id": "7UIWlSgs15tw",
        "outputId": "3c4ebf3c-91da-4f52-b94c-b799edddcfc7"
      },
      "outputs": [
        {
          "name": "stdout",
          "output_type": "stream",
          "text": [
            "Requirement already satisfied: seaborn in e:\\lib\\site-packages (0.13.2)\n",
            "Requirement already satisfied: numpy!=1.24.0,>=1.20 in e:\\lib\\site-packages (from seaborn) (2.2.1)\n",
            "Requirement already satisfied: pandas>=1.2 in e:\\lib\\site-packages (from seaborn) (2.2.3)\n",
            "Requirement already satisfied: matplotlib!=3.6.1,>=3.4 in e:\\lib\\site-packages (from seaborn) (3.10.0)\n",
            "Requirement already satisfied: contourpy>=1.0.1 in e:\\lib\\site-packages (from matplotlib!=3.6.1,>=3.4->seaborn) (1.3.1)\n",
            "Requirement already satisfied: cycler>=0.10 in e:\\lib\\site-packages (from matplotlib!=3.6.1,>=3.4->seaborn) (0.12.1)\n",
            "Requirement already satisfied: fonttools>=4.22.0 in e:\\lib\\site-packages (from matplotlib!=3.6.1,>=3.4->seaborn) (4.55.3)\n",
            "Requirement already satisfied: kiwisolver>=1.3.1 in e:\\lib\\site-packages (from matplotlib!=3.6.1,>=3.4->seaborn) (1.4.8)\n",
            "Requirement already satisfied: packaging>=20.0 in c:\\users\\my_pc\\appdata\\roaming\\python\\python313\\site-packages (from matplotlib!=3.6.1,>=3.4->seaborn) (24.2)\n",
            "Requirement already satisfied: pillow>=8 in e:\\lib\\site-packages (from matplotlib!=3.6.1,>=3.4->seaborn) (11.1.0)\n",
            "Requirement already satisfied: pyparsing>=2.3.1 in e:\\lib\\site-packages (from matplotlib!=3.6.1,>=3.4->seaborn) (3.2.1)\n",
            "Requirement already satisfied: python-dateutil>=2.7 in c:\\users\\my_pc\\appdata\\roaming\\python\\python313\\site-packages (from matplotlib!=3.6.1,>=3.4->seaborn) (2.9.0.post0)\n",
            "Requirement already satisfied: pytz>=2020.1 in e:\\lib\\site-packages (from pandas>=1.2->seaborn) (2024.2)\n",
            "Requirement already satisfied: tzdata>=2022.7 in e:\\lib\\site-packages (from pandas>=1.2->seaborn) (2024.2)\n",
            "Requirement already satisfied: six>=1.5 in c:\\users\\my_pc\\appdata\\roaming\\python\\python313\\site-packages (from python-dateutil>=2.7->matplotlib!=3.6.1,>=3.4->seaborn) (1.16.0)\n"
          ]
        },
        {
          "name": "stderr",
          "output_type": "stream",
          "text": [
            "\n",
            "[notice] A new release of pip is available: 24.2 -> 25.0.1\n",
            "[notice] To update, run: python.exe -m pip install --upgrade pip\n"
          ]
        }
      ],
      "source": [
        "!pip install seaborn"
      ]
    },
    {
      "cell_type": "code",
      "execution_count": null,
      "metadata": {
        "colab": {
          "base_uri": "https://localhost:8080/"
        },
        "id": "z4uiP1G319sn",
        "outputId": "8e9d7289-8928-4dfa-d8dc-36f36d7e43a5"
      },
      "outputs": [
        {
          "name": "stdout",
          "output_type": "stream",
          "text": [
            "Requirement already satisfied: scikit-learn in e:\\lib\\site-packages (1.6.1)\n",
            "Requirement already satisfied: numpy>=1.19.5 in e:\\lib\\site-packages (from scikit-learn) (2.2.1)\n",
            "Requirement already satisfied: scipy>=1.6.0 in e:\\lib\\site-packages (from scikit-learn) (1.15.1)\n",
            "Requirement already satisfied: joblib>=1.2.0 in e:\\lib\\site-packages (from scikit-learn) (1.4.2)\n",
            "Requirement already satisfied: threadpoolctl>=3.1.0 in e:\\lib\\site-packages (from scikit-learn) (3.5.0)\n"
          ]
        },
        {
          "name": "stderr",
          "output_type": "stream",
          "text": [
            "\n",
            "[notice] A new release of pip is available: 24.2 -> 25.0.1\n",
            "[notice] To update, run: python.exe -m pip install --upgrade pip\n"
          ]
        }
      ],
      "source": [
        "!pip install scikit-learn"
      ]
    },
    {
      "cell_type": "code",
      "execution_count": null,
      "metadata": {
        "id": "zUDTVOzedJV7"
      },
      "outputs": [],
      "source": [
        "import pandas as pd\n",
        "import numpy as np\n",
        "import seaborn as sns\n",
        "import matplotlib.pyplot as plt\n",
        "from sklearn.ensemble import RandomForestRegressor\n",
        "from sklearn.model_selection import train_test_split\n",
        "from sklearn.linear_model import LinearRegression\n",
        "from sklearn.metrics import mean_absolute_error, mean_squared_error, r2_score\n",
        "from sklearn.preprocessing import StandardScaler\n",
        "from sklearn.metrics import accuracy_score\n",
        "from sklearn.linear_model import LogisticRegression"
      ]
    },
    {
      "cell_type": "markdown",
      "metadata": {
        "id": "2CBWTzC-zKbo"
      },
      "source": [
        "<b><p style=\"font-size:16px\">1. Tải file dữ liệu (có thể sử dụng code Python để tải hoặc tải bằng tay), nạp dữ liệu\n",
        "từ file trên vào dataframe</b>"
      ]
    },
    {
      "cell_type": "code",
      "execution_count": null,
      "metadata": {
        "colab": {
          "base_uri": "https://localhost:8080/",
          "height": 842
        },
        "id": "5jGRG3pUdUOB",
        "outputId": "3e51ef87-0237-4005-bf80-bb1aa57e0bf1"
      },
      "outputs": [
        {
          "data": {
            "text/html": [
              "<div>\n",
              "<style scoped>\n",
              "    .dataframe tbody tr th:only-of-type {\n",
              "        vertical-align: middle;\n",
              "    }\n",
              "\n",
              "    .dataframe tbody tr th {\n",
              "        vertical-align: top;\n",
              "    }\n",
              "\n",
              "    .dataframe thead th {\n",
              "        text-align: right;\n",
              "    }\n",
              "</style>\n",
              "<table border=\"1\" class=\"dataframe\">\n",
              "  <thead>\n",
              "    <tr style=\"text-align: right;\">\n",
              "      <th></th>\n",
              "      <th>Unnamed: 0.3</th>\n",
              "      <th>Unnamed: 0.2</th>\n",
              "      <th>Unnamed: 0.1</th>\n",
              "      <th>Unnamed: 0</th>\n",
              "      <th>Open time</th>\n",
              "      <th>Open</th>\n",
              "      <th>High</th>\n",
              "      <th>Low</th>\n",
              "      <th>Close</th>\n",
              "      <th>Volume</th>\n",
              "      <th>Close time</th>\n",
              "      <th>Quote asset volume</th>\n",
              "      <th>Number of trades</th>\n",
              "      <th>Taker buy base asset volume</th>\n",
              "      <th>Taker buy quote asset volume</th>\n",
              "      <th>Ignore</th>\n",
              "    </tr>\n",
              "  </thead>\n",
              "  <tbody>\n",
              "    <tr>\n",
              "      <th>0</th>\n",
              "      <td>0</td>\n",
              "      <td>0</td>\n",
              "      <td>0</td>\n",
              "      <td>0</td>\n",
              "      <td>2018-01-01 00:00:00</td>\n",
              "      <td>13715.65</td>\n",
              "      <td>13715.65</td>\n",
              "      <td>13400.01</td>\n",
              "      <td>13556.15</td>\n",
              "      <td>123.616013</td>\n",
              "      <td>2018-01-01 00:14:59.999</td>\n",
              "      <td>1.675545e+06</td>\n",
              "      <td>1572</td>\n",
              "      <td>63.227133</td>\n",
              "      <td>8.576108e+05</td>\n",
              "      <td>0</td>\n",
              "    </tr>\n",
              "    <tr>\n",
              "      <th>1</th>\n",
              "      <td>1</td>\n",
              "      <td>1</td>\n",
              "      <td>1</td>\n",
              "      <td>1</td>\n",
              "      <td>2018-01-01 00:15:00</td>\n",
              "      <td>13533.75</td>\n",
              "      <td>13550.87</td>\n",
              "      <td>13402.00</td>\n",
              "      <td>13521.12</td>\n",
              "      <td>98.136430</td>\n",
              "      <td>2018-01-01 00:29:59.999</td>\n",
              "      <td>1.321757e+06</td>\n",
              "      <td>1461</td>\n",
              "      <td>47.686389</td>\n",
              "      <td>6.422812e+05</td>\n",
              "      <td>0</td>\n",
              "    </tr>\n",
              "    <tr>\n",
              "      <th>2</th>\n",
              "      <td>2</td>\n",
              "      <td>2</td>\n",
              "      <td>2</td>\n",
              "      <td>2</td>\n",
              "      <td>2018-01-01 00:30:00</td>\n",
              "      <td>13500.00</td>\n",
              "      <td>13545.37</td>\n",
              "      <td>13450.00</td>\n",
              "      <td>13470.41</td>\n",
              "      <td>79.904037</td>\n",
              "      <td>2018-01-01 00:44:59.999</td>\n",
              "      <td>1.078825e+06</td>\n",
              "      <td>1000</td>\n",
              "      <td>43.710406</td>\n",
              "      <td>5.900347e+05</td>\n",
              "      <td>0</td>\n",
              "    </tr>\n",
              "    <tr>\n",
              "      <th>3</th>\n",
              "      <td>3</td>\n",
              "      <td>3</td>\n",
              "      <td>3</td>\n",
              "      <td>3</td>\n",
              "      <td>2018-01-01 00:45:00</td>\n",
              "      <td>13494.65</td>\n",
              "      <td>13690.87</td>\n",
              "      <td>13450.00</td>\n",
              "      <td>13529.01</td>\n",
              "      <td>141.699719</td>\n",
              "      <td>2018-01-01 00:59:59.999</td>\n",
              "      <td>1.917783e+06</td>\n",
              "      <td>1195</td>\n",
              "      <td>73.897993</td>\n",
              "      <td>1.000614e+06</td>\n",
              "      <td>0</td>\n",
              "    </tr>\n",
              "    <tr>\n",
              "      <th>4</th>\n",
              "      <td>4</td>\n",
              "      <td>4</td>\n",
              "      <td>4</td>\n",
              "      <td>4</td>\n",
              "      <td>2018-01-01 01:00:00</td>\n",
              "      <td>13528.99</td>\n",
              "      <td>13571.74</td>\n",
              "      <td>13402.28</td>\n",
              "      <td>13445.63</td>\n",
              "      <td>72.537533</td>\n",
              "      <td>2018-01-01 01:14:59.999</td>\n",
              "      <td>9.778198e+05</td>\n",
              "      <td>898</td>\n",
              "      <td>34.257652</td>\n",
              "      <td>4.618369e+05</td>\n",
              "      <td>0</td>\n",
              "    </tr>\n",
              "    <tr>\n",
              "      <th>...</th>\n",
              "      <td>...</td>\n",
              "      <td>...</td>\n",
              "      <td>...</td>\n",
              "      <td>...</td>\n",
              "      <td>...</td>\n",
              "      <td>...</td>\n",
              "      <td>...</td>\n",
              "      <td>...</td>\n",
              "      <td>...</td>\n",
              "      <td>...</td>\n",
              "      <td>...</td>\n",
              "      <td>...</td>\n",
              "      <td>...</td>\n",
              "      <td>...</td>\n",
              "      <td>...</td>\n",
              "      <td>...</td>\n",
              "    </tr>\n",
              "    <tr>\n",
              "      <th>236998</th>\n",
              "      <td>236998</td>\n",
              "      <td>236998</td>\n",
              "      <td>236998</td>\n",
              "      <td>236998</td>\n",
              "      <td>2024-10-10 06:30:00</td>\n",
              "      <td>61059.99</td>\n",
              "      <td>61105.00</td>\n",
              "      <td>61058.00</td>\n",
              "      <td>61064.86</td>\n",
              "      <td>113.846280</td>\n",
              "      <td>2024-10-10 06:44:59.999000</td>\n",
              "      <td>6.954123e+06</td>\n",
              "      <td>16250</td>\n",
              "      <td>56.618640</td>\n",
              "      <td>3.458480e+06</td>\n",
              "      <td>0</td>\n",
              "    </tr>\n",
              "    <tr>\n",
              "      <th>236999</th>\n",
              "      <td>236999</td>\n",
              "      <td>236999</td>\n",
              "      <td>236999</td>\n",
              "      <td>236999</td>\n",
              "      <td>2024-10-10 06:45:00</td>\n",
              "      <td>61064.86</td>\n",
              "      <td>61149.58</td>\n",
              "      <td>61039.56</td>\n",
              "      <td>61143.85</td>\n",
              "      <td>190.041710</td>\n",
              "      <td>2024-10-10 06:59:59.999000</td>\n",
              "      <td>1.160895e+07</td>\n",
              "      <td>16920</td>\n",
              "      <td>81.787990</td>\n",
              "      <td>4.996370e+06</td>\n",
              "      <td>0</td>\n",
              "    </tr>\n",
              "    <tr>\n",
              "      <th>237000</th>\n",
              "      <td>237000</td>\n",
              "      <td>237000</td>\n",
              "      <td>237000</td>\n",
              "      <td>237000</td>\n",
              "      <td>2024-10-10 07:00:00</td>\n",
              "      <td>61143.86</td>\n",
              "      <td>61143.86</td>\n",
              "      <td>61079.44</td>\n",
              "      <td>61137.02</td>\n",
              "      <td>84.499960</td>\n",
              "      <td>2024-10-10 07:14:59.999000</td>\n",
              "      <td>5.163661e+06</td>\n",
              "      <td>10828</td>\n",
              "      <td>32.029050</td>\n",
              "      <td>1.957208e+06</td>\n",
              "      <td>0</td>\n",
              "    </tr>\n",
              "    <tr>\n",
              "      <th>237001</th>\n",
              "      <td>237001</td>\n",
              "      <td>237001</td>\n",
              "      <td>237001</td>\n",
              "      <td>237001</td>\n",
              "      <td>2024-10-10 07:15:00</td>\n",
              "      <td>61137.02</td>\n",
              "      <td>61145.99</td>\n",
              "      <td>61020.00</td>\n",
              "      <td>61020.01</td>\n",
              "      <td>78.775990</td>\n",
              "      <td>2024-10-10 07:29:59.999000</td>\n",
              "      <td>4.811728e+06</td>\n",
              "      <td>18665</td>\n",
              "      <td>30.924580</td>\n",
              "      <td>1.888847e+06</td>\n",
              "      <td>0</td>\n",
              "    </tr>\n",
              "    <tr>\n",
              "      <th>237002</th>\n",
              "      <td>237002</td>\n",
              "      <td>237002</td>\n",
              "      <td>237002</td>\n",
              "      <td>237002</td>\n",
              "      <td>2024-10-10 07:30:00</td>\n",
              "      <td>61020.01</td>\n",
              "      <td>61020.01</td>\n",
              "      <td>60970.08</td>\n",
              "      <td>60984.00</td>\n",
              "      <td>67.632550</td>\n",
              "      <td>2024-10-10 07:44:59.999000</td>\n",
              "      <td>4.124782e+06</td>\n",
              "      <td>17272</td>\n",
              "      <td>24.779770</td>\n",
              "      <td>1.511192e+06</td>\n",
              "      <td>0</td>\n",
              "    </tr>\n",
              "  </tbody>\n",
              "</table>\n",
              "<p>237003 rows × 16 columns</p>\n",
              "</div>"
            ],
            "text/plain": [
              "        Unnamed: 0.3  Unnamed: 0.2  Unnamed: 0.1  Unnamed: 0  \\\n",
              "0                  0             0             0           0   \n",
              "1                  1             1             1           1   \n",
              "2                  2             2             2           2   \n",
              "3                  3             3             3           3   \n",
              "4                  4             4             4           4   \n",
              "...              ...           ...           ...         ...   \n",
              "236998        236998        236998        236998      236998   \n",
              "236999        236999        236999        236999      236999   \n",
              "237000        237000        237000        237000      237000   \n",
              "237001        237001        237001        237001      237001   \n",
              "237002        237002        237002        237002      237002   \n",
              "\n",
              "                  Open time      Open      High       Low     Close  \\\n",
              "0       2018-01-01 00:00:00  13715.65  13715.65  13400.01  13556.15   \n",
              "1       2018-01-01 00:15:00  13533.75  13550.87  13402.00  13521.12   \n",
              "2       2018-01-01 00:30:00  13500.00  13545.37  13450.00  13470.41   \n",
              "3       2018-01-01 00:45:00  13494.65  13690.87  13450.00  13529.01   \n",
              "4       2018-01-01 01:00:00  13528.99  13571.74  13402.28  13445.63   \n",
              "...                     ...       ...       ...       ...       ...   \n",
              "236998  2024-10-10 06:30:00  61059.99  61105.00  61058.00  61064.86   \n",
              "236999  2024-10-10 06:45:00  61064.86  61149.58  61039.56  61143.85   \n",
              "237000  2024-10-10 07:00:00  61143.86  61143.86  61079.44  61137.02   \n",
              "237001  2024-10-10 07:15:00  61137.02  61145.99  61020.00  61020.01   \n",
              "237002  2024-10-10 07:30:00  61020.01  61020.01  60970.08  60984.00   \n",
              "\n",
              "            Volume                  Close time  Quote asset volume  \\\n",
              "0       123.616013     2018-01-01 00:14:59.999        1.675545e+06   \n",
              "1        98.136430     2018-01-01 00:29:59.999        1.321757e+06   \n",
              "2        79.904037     2018-01-01 00:44:59.999        1.078825e+06   \n",
              "3       141.699719     2018-01-01 00:59:59.999        1.917783e+06   \n",
              "4        72.537533     2018-01-01 01:14:59.999        9.778198e+05   \n",
              "...            ...                         ...                 ...   \n",
              "236998  113.846280  2024-10-10 06:44:59.999000        6.954123e+06   \n",
              "236999  190.041710  2024-10-10 06:59:59.999000        1.160895e+07   \n",
              "237000   84.499960  2024-10-10 07:14:59.999000        5.163661e+06   \n",
              "237001   78.775990  2024-10-10 07:29:59.999000        4.811728e+06   \n",
              "237002   67.632550  2024-10-10 07:44:59.999000        4.124782e+06   \n",
              "\n",
              "        Number of trades  Taker buy base asset volume  \\\n",
              "0                   1572                    63.227133   \n",
              "1                   1461                    47.686389   \n",
              "2                   1000                    43.710406   \n",
              "3                   1195                    73.897993   \n",
              "4                    898                    34.257652   \n",
              "...                  ...                          ...   \n",
              "236998             16250                    56.618640   \n",
              "236999             16920                    81.787990   \n",
              "237000             10828                    32.029050   \n",
              "237001             18665                    30.924580   \n",
              "237002             17272                    24.779770   \n",
              "\n",
              "        Taker buy quote asset volume  Ignore  \n",
              "0                       8.576108e+05       0  \n",
              "1                       6.422812e+05       0  \n",
              "2                       5.900347e+05       0  \n",
              "3                       1.000614e+06       0  \n",
              "4                       4.618369e+05       0  \n",
              "...                              ...     ...  \n",
              "236998                  3.458480e+06       0  \n",
              "236999                  4.996370e+06       0  \n",
              "237000                  1.957208e+06       0  \n",
              "237001                  1.888847e+06       0  \n",
              "237002                  1.511192e+06       0  \n",
              "\n",
              "[237003 rows x 16 columns]"
            ]
          },
          "execution_count": 4,
          "metadata": {},
          "output_type": "execute_result"
        }
      ],
      "source": [
        "# Cài đặt dữ liệu vào dataframe\n",
        "df= pd.read_csv('btc_15m_data_2018_to_2024-2024-10-10.csv')\n",
        "df"
      ]
    },
    {
      "cell_type": "markdown",
      "metadata": {
        "id": "raVovamSzdCb"
      },
      "source": [
        "<b><p style=\"font-size:16px\">2. Thực hiện thống kê mô tả dữ liệu</b>"
      ]
    },
    {
      "cell_type": "code",
      "execution_count": null,
      "metadata": {
        "colab": {
          "base_uri": "https://localhost:8080/"
        },
        "id": "OTtj0mVGd6Qt",
        "outputId": "06051833-bc84-497f-fcdb-9ed0ed18b7cd"
      },
      "outputs": [
        {
          "name": "stdout",
          "output_type": "stream",
          "text": [
            "        Unnamed: 0.3   Unnamed: 0.2   Unnamed: 0.1     Unnamed: 0  \\\n",
            "count  237003.000000  237003.000000  237003.000000  237003.000000   \n",
            "mean   118501.000000  118501.000000  118501.000000  118501.000000   \n",
            "std     68417.017262   68417.017262   68417.017262   68417.017262   \n",
            "min         0.000000       0.000000       0.000000       0.000000   \n",
            "25%     59250.500000   59250.500000   59250.500000   59250.500000   \n",
            "50%    118501.000000  118501.000000  118501.000000  118501.000000   \n",
            "75%    177751.500000  177751.500000  177751.500000  177751.500000   \n",
            "max    237002.000000  237002.000000  237002.000000  237002.000000   \n",
            "\n",
            "                Open           High            Low          Close  \\\n",
            "count  237003.000000  237003.000000  237003.000000  237003.000000   \n",
            "mean    26143.477153   26203.145700   26081.456259   26143.673574   \n",
            "std     19605.161972   19647.220643   19561.437836   19605.278553   \n",
            "min      3166.110000    3174.780000    3156.260000    3167.070000   \n",
            "25%      8826.100000    8849.445000    8800.000000    8826.360000   \n",
            "50%     20811.630000   20860.060000   20760.750000   20811.620000   \n",
            "75%     41154.470000   41249.395000   41031.380000   41154.985000   \n",
            "max     73607.800000   73777.000000   73400.000000   73607.800000   \n",
            "\n",
            "              Volume  Quote asset volume  Number of trades  \\\n",
            "count  237003.000000        2.370030e+05     237003.000000   \n",
            "mean      759.358038        1.845457e+07      16468.413877   \n",
            "std      1151.237753        2.859009e+07      24227.272399   \n",
            "min         0.000000        0.000000e+00          0.000000   \n",
            "25%       226.523381        3.069464e+06       3709.500000   \n",
            "50%       398.219962        8.584165e+06       8343.000000   \n",
            "75%       789.828751        2.264439e+07      17917.000000   \n",
            "max     40371.405060        8.804418e+08     548344.000000   \n",
            "\n",
            "       Taker buy base asset volume  Taker buy quote asset volume    Ignore  \n",
            "count                237003.000000                  2.370030e+05  237003.0  \n",
            "mean                    377.525614                  9.141339e+06       0.0  \n",
            "std                     574.104544                  1.427712e+07       0.0  \n",
            "min                       0.000000                  0.000000e+00       0.0  \n",
            "25%                     112.077350                  1.515448e+06       0.0  \n",
            "50%                     198.398240                  4.144408e+06       0.0  \n",
            "75%                     393.848983                  1.118724e+07       0.0  \n",
            "max                   19925.616600                  4.345161e+08       0.0  \n"
          ]
        }
      ],
      "source": [
        "# Hiển thị một số thống kê cơ bản\n",
        "print(df.describe())\n",
        "\n",
        "# Tính toán các thống kê khác\n",
        "mean_price = df['Close'].mean()\n",
        "max_price = df['Close'].max()\n",
        "min_price = df['Close'].min()\n",
        "\n",
        "# Lưu dữ liệu vào file CSV\n",
        "df.to_csv('btc_15m_data_2018_to_2024-2024-10-10.csv')"
      ]
    },
    {
      "cell_type": "markdown",
      "metadata": {
        "id": "n5mHmfc_zvIc"
      },
      "source": [
        "<b><p style=\"font-size:16px\">3. Làm sạch và phân tích tương quan giữa các đặc trưng trong dữ liệu</b>"
      ]
    },
    {
      "cell_type": "code",
      "execution_count": null,
      "metadata": {
        "colab": {
          "base_uri": "https://localhost:8080/"
        },
        "id": "mDJB8hy9eBe3",
        "outputId": "3066999b-edc0-434c-9f3a-a46f19b25821"
      },
      "outputs": [
        {
          "name": "stdout",
          "output_type": "stream",
          "text": [
            "Số lượng các giá trị dữ liệu bị thiếu trước khi làm sạch :\n",
            "Unnamed: 0.3                    0\n",
            "Unnamed: 0.2                    0\n",
            "Unnamed: 0.1                    0\n",
            "Unnamed: 0                      0\n",
            "Open time                       0\n",
            "Open                            0\n",
            "High                            0\n",
            "Low                             0\n",
            "Close                           0\n",
            "Volume                          0\n",
            "Close time                      0\n",
            "Quote asset volume              0\n",
            "Number of trades                0\n",
            "Taker buy base asset volume     0\n",
            "Taker buy quote asset volume    0\n",
            "Ignore                          0\n",
            "dtype: int64\n",
            "Số lượng các giá trị dữ liệu bị thiếu sau khi làm sạch:\n",
            "Unnamed: 0.3                    0\n",
            "Unnamed: 0.2                    0\n",
            "Unnamed: 0.1                    0\n",
            "Unnamed: 0                      0\n",
            "Open time                       0\n",
            "Open                            0\n",
            "High                            0\n",
            "Low                             0\n",
            "Close                           0\n",
            "Volume                          0\n",
            "Close time                      0\n",
            "Quote asset volume              0\n",
            "Number of trades                0\n",
            "Taker buy base asset volume     0\n",
            "Taker buy quote asset volume    0\n",
            "Ignore                          0\n",
            "dtype: int64\n",
            "Số lượng các giá trị dữ liệu trùng lặp trước khi làm sạch:\n",
            "0\n",
            "Số lượng các giá trị dữ liệu trùng lặp sau khi làm sạch:\n",
            "0\n"
          ]
        }
      ],
      "source": [
        "# Kiểm tra dữ liệu thiếu\n",
        "print(\"Số lượng các giá trị dữ liệu bị thiếu trước khi làm sạch :\")\n",
        "print(df.isna().sum())\n",
        "\n",
        "# Xóa các dòng có giá trị thiếu\n",
        "df_cleaned = df.dropna()\n",
        "\n",
        "# Kiểm tra lại số lượng giá trị thiếu sau khi làm sạch\n",
        "print(\"Số lượng các giá trị dữ liệu bị thiếu sau khi làm sạch:\")\n",
        "print(df_cleaned.isna().sum())\n",
        "\n",
        "#kiểm tra giá trị bị trùng lặp\n",
        "print(\"Số lượng các giá trị dữ liệu trùng lặp trước khi làm sạch:\")\n",
        "print(df_cleaned.duplicated().sum())\n",
        "\n",
        "#loại bỏ dữ liệu trùng lặp\n",
        "df_cleaned=df_cleaned.drop_duplicates()\n",
        "\n",
        "\n",
        "## Kiểm tra lại số lượng dòng trùng lặp sau khi làm sạch\n",
        "print(\"Số lượng các giá trị dữ liệu trùng lặp sau khi làm sạch:\")\n",
        "print(df_cleaned.duplicated().sum())"
      ]
    },
    {
      "cell_type": "code",
      "execution_count": null,
      "metadata": {
        "colab": {
          "base_uri": "https://localhost:8080/",
          "height": 1000
        },
        "id": "4zr36oJkeGH4",
        "outputId": "e2cb431b-d34f-4a16-d997-c8163c783cc7"
      },
      "outputs": [
        {
          "name": "stdout",
          "output_type": "stream",
          "text": [
            "Unnamed: 0.3                      int64\n",
            "Unnamed: 0.2                      int64\n",
            "Unnamed: 0.1                      int64\n",
            "Unnamed: 0                        int64\n",
            "Open time                        object\n",
            "Open                            float64\n",
            "High                            float64\n",
            "Low                             float64\n",
            "Close                           float64\n",
            "Volume                          float64\n",
            "Close time                       object\n",
            "Quote asset volume              float64\n",
            "Number of trades                  int64\n",
            "Taker buy base asset volume     float64\n",
            "Taker buy quote asset volume    float64\n",
            "Ignore                            int64\n",
            "dtype: object\n",
            "   Unnamed: 0.3  Unnamed: 0.2  Unnamed: 0.1  Unnamed: 0      Open      High  \\\n",
            "0             0             0             0           0  13715.65  13715.65   \n",
            "1             1             1             1           1  13533.75  13550.87   \n",
            "2             2             2             2           2  13500.00  13545.37   \n",
            "3             3             3             3           3  13494.65  13690.87   \n",
            "4             4             4             4           4  13528.99  13571.74   \n",
            "\n",
            "        Low     Close      Volume  Quote asset volume  Number of trades  \\\n",
            "0  13400.01  13556.15  123.616013        1.675545e+06              1572   \n",
            "1  13402.00  13521.12   98.136430        1.321757e+06              1461   \n",
            "2  13450.00  13470.41   79.904037        1.078825e+06              1000   \n",
            "3  13450.00  13529.01  141.699719        1.917783e+06              1195   \n",
            "4  13402.28  13445.63   72.537533        9.778198e+05               898   \n",
            "\n",
            "   Taker buy base asset volume  Taker buy quote asset volume  Ignore  \n",
            "0                    63.227133                  8.576108e+05       0  \n",
            "1                    47.686389                  6.422812e+05       0  \n",
            "2                    43.710406                  5.900347e+05       0  \n",
            "3                    73.897993                  1.000614e+06       0  \n",
            "4                    34.257652                  4.618369e+05       0  \n"
          ]
        },
        {
          "name": "stdout",
          "output_type": "stream",
          "text": [
            "      Close  Close_target\n",
            "0  13556.15             0\n",
            "1  13521.12             0\n",
            "2  13470.41             1\n",
            "3  13529.01             0\n",
            "4  13445.63             1\n",
            "5  13560.00             0\n",
            "6  13440.01             0\n",
            "7  13203.06             1\n",
            "8  13387.00             0\n",
            "9  13225.00             1\n",
            "\n",
            "Ma trận tương quan:\n",
            "                  Open     Close      High       Low    Volume  Close_target\n",
            "Open          1.000000  0.999983  0.999989  0.999986 -0.061786     -0.006100\n",
            "Close         0.999983  1.000000  0.999990  0.999989 -0.061876     -0.006325\n",
            "High          0.999989  0.999990  1.000000  0.999977 -0.060601     -0.006166\n",
            "Low           0.999986  0.999989  0.999977  1.000000 -0.063210     -0.006215\n",
            "Volume       -0.061786 -0.061876 -0.060601 -0.063210  1.000000      0.004936\n",
            "Close_target -0.006100 -0.006325 -0.006166 -0.006215  0.004936      1.000000\n"
          ]
        },
        {
          "data": {
            "image/png": "[encoded data removed]",
            "text/plain": [
              "<Figure size 1000x800 with 2 Axes>"
            ]
          },
          "metadata": {},
          "output_type": "display_data"
        },
        {
          "name": "stdout",
          "output_type": "stream",
          "text": [
            "\n",
            "Hệ số tương quan của các biến đặc trưng với biến mục tiêu:\n",
            "Open     -0.006100\n",
            "Close    -0.006325\n",
            "High     -0.006166\n",
            "Low      -0.006215\n",
            "Volume    0.004936\n",
            "Name: Close_target, dtype: float64\n"
          ]
        }
      ],
      "source": [
        "# Kiểm tra kiểu dữ liệu\n",
        "print(df.dtypes)\n",
        "\n",
        "# Hiển thị các cột có kiểu dữ liệu số\n",
        "numeric_df = df.select_dtypes(include=['float64', 'int64'])\n",
        "print(numeric_df.head())\n",
        "\n",
        "# Chuyển thành dữ liệu số cho các cột cần thiết nếu có\n",
        "for col in ['Open', 'Close', 'High', 'Low','Volume']:\n",
        "    df[col] = pd.to_numeric(df[col], errors='coerce')\n",
        "\n",
        "# Tạo biến mục tiêu nhị phân (giá tăng hoặc giá giảm) từ cột `close`\n",
        "df['Close_target'] = (df['Close'].shift(-1) > df['Close']).astype(int)\n",
        "\n",
        "# Loại bỏ các hàng có giá trị NaN do sử dụng hàm shift\n",
        "df = df.dropna(subset=['Close', 'Close_target'])\n",
        "\n",
        "# Kiểm tra biến mục tiêu\n",
        "if 'Close_target' in df.columns:\n",
        "    print(df[['Close', 'Close_target']].head(10))\n",
        "else:\n",
        "    print(\"Không thể tạo biến mục tiêu vì thiếu cột 'Close'.\")\n",
        "\n",
        "# Loại bỏ các cột không phải là dữ liệu số và cột mục tiêu\n",
        "df_numeric = df[['Open', 'Close', 'High', 'Low','Volume', 'Close_target']].dropna()\n",
        "\n",
        "# Phân tích tương quan\n",
        "Correlation_matrix = df_numeric.corr()\n",
        "\n",
        "# In ra ma trận tương quan\n",
        "print(\"\\nMa trận tương quan:\")\n",
        "print(Correlation_matrix)\n",
        "\n",
        "# Vẽ biểu đồ heatmap để trực quan hóa tương quan\n",
        "plt.figure(figsize=(10, 8))\n",
        "# Use 'Correlation_matrix' instead of 'correlation_matrix'\n",
        "sns.heatmap(Correlation_matrix, annot=True, fmt=\".2f\", cmap='coolwarm')\n",
        "plt.title('Correlation Matrix')\n",
        "plt.show()\n",
        "\n",
        "# Lấy hệ số tương quan của các biến đặc trưng với biến mục tiêu\n",
        "Correlation_with_target = Correlation_matrix['Close_target'].drop('Close_target')\n",
        "\n",
        "# In ra hệ số tương quan của các biến đặc trưng với biến mục tiêu\n",
        "print(\"\\nHệ số tương quan của các biến đặc trưng với biến mục tiêu:\")\n",
        "print(Correlation_with_target)"
      ]
    },
    {
      "cell_type": "markdown",
      "metadata": {
        "id": "x5r-KY9W0D0T"
      },
      "source": [
        "<b><p style=\"font-size:16px\">4. Đánh giá mức độ quan trọng về mặt thông tin của các đặc trưng và lựa chọn các\n",
        "đặc trưng đưa vào huấn luyện mô hình học máy</b>"
      ]
    },
    {
      "cell_type": "code",
      "execution_count": null,
      "metadata": {
        "colab": {
          "base_uri": "https://localhost:8080/",
          "height": 875
        },
        "id": "-Sj3g6R8nGB8",
        "outputId": "416b1e02-9c8d-435b-b2aa-4d1a8098b806"
      },
      "outputs": [
        {
          "name": "stdout",
          "output_type": "stream",
          "text": [
            "Mean Squared Error: 0.2495145321400903\n",
            "R-squared: 0.0019228374511853774\n",
            "Mức độ quan trọng của các đặc trưng:\n",
            "  Feature  Importance\n",
            "1    High    3.785006\n",
            "2     Low    2.597927\n",
            "0    Open    0.380606\n",
            "4  Volume    0.000439\n",
            "3   Close   -6.766468\n"
          ]
        },
        {
          "data": {
            "image/png": "[encoded data removed]",
            "text/plain": [
              "<Figure size 1000x800 with 1 Axes>"
            ]
          },
          "metadata": {},
          "output_type": "display_data"
        },
        {
          "name": "stdout",
          "output_type": "stream",
          "text": [
            "Các đặc trưng quan trọng nhất:\n",
            "1     High\n",
            "2      Low\n",
            "0     Open\n",
            "3    Close\n",
            "Name: Feature, dtype: object\n"
          ]
        }
      ],
      "source": [
        "# Lựa chọn các đặc trưng và biến mục tiêu\n",
        "X = df[['Open', 'High', 'Low','Close', 'Volume']]\n",
        "y = df['Close_target']\n",
        "\n",
        "# Chuẩn hóa dữ liệu\n",
        "scaler = StandardScaler()\n",
        "X_scaled = scaler.fit_transform(X)\n",
        "\n",
        "# Chia dữ liệu thành tập huấn luyện và tập kiểm tra\n",
        "X_train, X_test, y_train, y_test = train_test_split(X_scaled, y, test_size=0.2, random_state=42)\n",
        "\n",
        "# Huấn luyện mô hình Linear Regression\n",
        "model = LinearRegression()\n",
        "model.fit(X_train, y_train)\n",
        "\n",
        "# Dự đoán trên tập kiểm tra\n",
        "y_pred = model.predict(X_test)\n",
        "\n",
        "# Đánh giá mô hình\n",
        "mse = mean_squared_error(y_test, y_pred)\n",
        "r2 = r2_score(y_test, y_pred)\n",
        "print('Mean Squared Error:', mse)\n",
        "print('R-squared:', r2)\n",
        "\n",
        "# Đánh giá mức độ quan trọng của các đặc trưng thông qua hệ số hồi quy\n",
        "coefficients = model.coef_\n",
        "features = X.columns\n",
        "importance = pd.DataFrame({'Feature': features, 'Importance': coefficients})\n",
        "importance = importance.sort_values(by='Importance', ascending=False)\n",
        "\n",
        "# In ra mức độ quan trọng của các đặc trưng\n",
        "print(\"Mức độ quan trọng của các đặc trưng:\")\n",
        "print(importance)\n",
        "\n",
        "# Vẽ biểu đồ thanh để trực quan hóa mức độ quan trọng của các đặc trưng\n",
        "plt.figure(figsize=(10, 8))\n",
        "sns.barplot(x='Importance', y='Feature', data=importance)\n",
        "plt.title('Feature Importance in Linear Regression')\n",
        "plt.show()\n",
        "\n",
        "# Lựa chọn các đặc trưng quan trọng nhất (dựa trên mức độ quan trọng)\n",
        "selected_features = importance[importance['Importance'].abs() > 0.1]['Feature']\n",
        "print(\"Các đặc trưng quan trọng nhất:\")\n",
        "print(selected_features)\n"
      ]
    },
    {
      "cell_type": "markdown",
      "metadata": {
        "id": "Kj4zuT610FX1"
      },
      "source": [
        "<b><p style=\"font-size:16px\">5. Huấn luyện mô hình dự đoán giá BTC</b>"
      ]
    },
    {
      "cell_type": "code",
      "execution_count": null,
      "metadata": {
        "colab": {
          "base_uri": "https://localhost:8080/"
        },
        "id": "DvCj3WI96LQT",
        "outputId": "9fbf1f25-8648-4417-b252-a316ecee0c1c"
      },
      "outputs": [
        {
          "name": "stdout",
          "output_type": "stream",
          "text": [
            "Kết quả dự đoán giá theo ngày:\n",
            "                Open time Actual Price Predicted Price\n",
            "0     2018-01-01 01:00:00   13,446 VNĐ      13,473 VNĐ\n",
            "1     2018-01-01 01:30:00   13,440 VNĐ      13,469 VNĐ\n",
            "2     2018-01-01 02:45:00   13,330 VNĐ      13,345 VNĐ\n",
            "3     2018-01-01 03:00:00   13,445 VNĐ      13,395 VNĐ\n",
            "4     2018-01-01 05:30:00   13,580 VNĐ      13,564 VNĐ\n",
            "...                   ...          ...             ...\n",
            "47396 2024-10-10 01:15:00   60,618 VNĐ      60,637 VNĐ\n",
            "47397 2024-10-10 03:45:00   60,865 VNĐ      60,894 VNĐ\n",
            "47398 2024-10-10 04:30:00   60,916 VNĐ      60,904 VNĐ\n",
            "47399 2024-10-10 05:00:00   60,872 VNĐ      60,874 VNĐ\n",
            "47400 2024-10-10 07:15:00   61,020 VNĐ      61,055 VNĐ\n",
            "\n",
            "[47401 rows x 3 columns]\n"
          ]
        }
      ],
      "source": [
        "# Chọn đặc trưng đầu vào và giá mục tiêu\n",
        "X = df[['Open', 'High', 'Low', 'Volume']]\n",
        "y = df['Close']  # Dự đoán giá thực thay vì phân loại\n",
        "\n",
        "# Chia dữ liệu thành tập train và test\n",
        "X_train, X_test, y_train, y_test = train_test_split(X, y, test_size=0.2, random_state=42)\n",
        "\n",
        "# Chuẩn hóa dữ liệu đầu vào\n",
        "scaler_X = StandardScaler()\n",
        "X_train_scaled = scaler_X.fit_transform(X_train)\n",
        "X_test_scaled = scaler_X.transform(X_test)\n",
        "\n",
        "# Huấn luyện mô hình Linear Regression\n",
        "model = LinearRegression()\n",
        "model.fit(X_train_scaled, y_train)\n",
        "\n",
        "# Dự đoán trên tập kiểm tra\n",
        "y_pred = model.predict(X_test_scaled)\n",
        "\n",
        "# In kết quả dự đoán giá theo ngày\n",
        "results = pd.DataFrame({\n",
        "    'Open time': df.loc[y_test.index, 'Open time'],  # Sử dụng y_test.index để lấy Open time\n",
        "    'Actual Price': y_test,\n",
        "    'Predicted Price': y_pred\n",
        "})\n",
        "\n",
        "# Chuyển đổi cột 'Open time' sang định dạng datetime\n",
        "results['Open time'] = pd.to_datetime(results['Open time'], errors='coerce')\n",
        "\n",
        "# Kiểm tra giá trị trong cột 'Open time'\n",
        "if results['Open time'].isnull().any():\n",
        "    print(\"Cảnh báo: Có giá trị NaT trong cột 'Open time' của kết quả.\")\n",
        "\n",
        "# Định dạng giá thành tiền Việt Nam (VND)\n",
        "results['Actual Price'] = results['Actual Price'].apply(lambda x: f\"{x:,.0f} VNĐ\")\n",
        "results['Predicted Price'] = results['Predicted Price'].apply(lambda x: f\"{x:,.0f} VNĐ\")\n",
        "\n",
        "# Sắp xếp theo thời gian\n",
        "results = results.sort_values('Open time').reset_index(drop=True)\n",
        "\n",
        "# Hiển thị kết quả\n",
        "print(\"Kết quả dự đoán giá theo ngày:\")\n",
        "print(results)"
      ]
    },
    {
      "cell_type": "markdown",
      "metadata": {
        "id": "iDG5SgKv0GZ5"
      },
      "source": [
        "<b><p style=\"font-size:16px\">6. Đánh giá mô hình</b>"
      ]
    },
    {
      "cell_type": "code",
      "execution_count": null,
      "metadata": {
        "colab": {
          "base_uri": "https://localhost:8080/"
        },
        "id": "QwApAU15uX86",
        "outputId": "c0a5b3ba-2803-46d8-e1c3-392e1b38a8fb"
      },
      "outputs": [
        {
          "name": "stdout",
          "output_type": "stream",
          "text": [
            "\n",
            "Hiệu suất mô hình trên tập huấn luyện:\n",
            "--------------------------------------\n",
            "RMSE: 50.96632118339443\n",
            "R² score: 0.9999932442832706\n",
            "\n",
            "Hiệu suất mô hình trên tập kiểm tra:\n",
            "--------------------------------------\n",
            "RMSE: 50.23326261077882\n",
            "R² score: 0.9999934256425059\n"
          ]
        }
      ],
      "source": [
        "# Dự đoán trên tập huấn luyện\n",
        "y_train_pred = model.predict(X_train_scaled)\n",
        "\n",
        "# Dự đoán trên tập kiểm tra\n",
        "y_test_pred = model.predict(X_test_scaled)\n",
        "\n",
        "# Tính toán các chỉ số đánh giá trên tập huấn luyện\n",
        "train_rmse = np.sqrt(mean_squared_error(y_train, y_train_pred))\n",
        "train_r2 = r2_score(y_train, y_train_pred)\n",
        "\n",
        "# Tính toán các chỉ số đánh giá trên tập kiểm tra\n",
        "test_rmse = np.sqrt(mean_squared_error(y_test, y_test_pred))\n",
        "test_r2 = r2_score(y_test, y_test_pred)\n",
        "\n",
        "# In kết quả đánh giá\n",
        "print(\"\\nHiệu suất mô hình trên tập huấn luyện:\")\n",
        "print(\"--------------------------------------\")\n",
        "print(f'RMSE: {train_rmse}')\n",
        "print(f'R² score: {train_r2}')\n",
        "\n",
        "print(\"\\nHiệu suất mô hình trên tập kiểm tra:\")\n",
        "print(\"--------------------------------------\")\n",
        "print(f'RMSE: {test_rmse}')\n",
        "print(f'R² score: {test_r2}')\n"
      ]
    }
  ],
  "metadata": {
    "colab": {
      "provenance": [],
      "include_colab_link": true
    },
    "kernelspec": {
      "display_name": "Python 3",
      "name": "python3"
    },
    "language_info": {
      "codemirror_mode": {
        "name": "ipython",
        "version": 3
      },
      "file_extension": ".py",
      "mimetype": "text/x-python",
      "name": "python",
      "nbconvert_exporter": "python",
      "pygments_lexer": "ipython3",
      "version": "3.13.0"
    }
  },
  "nbformat": 4,
  "nbformat_minor": 0
}